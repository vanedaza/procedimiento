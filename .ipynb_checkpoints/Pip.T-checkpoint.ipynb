{
 "cells": [
  {
   "cell_type": "markdown",
   "metadata": {},
   "source": [
    "# PROCEDIMIENTO"
   ]
  },
  {
   "cell_type": "markdown",
   "metadata": {},
   "source": [
    "# PIPELINE TOROS \n",
    "[toros](https://github.com/toros-astro/toritos)"
   ]
  },
  {
   "cell_type": "markdown",
   "metadata": {},
   "source": [
    "## **Pasos**"
   ]
  },
  {
   "cell_type": "markdown",
   "metadata": {},
   "source": [
    "# -1"
   ]
  },
  {
   "cell_type": "markdown",
   "metadata": {},
   "source": [
    "**Crear un entorno con python 2.7**\n",
    "\n",
    "Con conda:\n",
    "-  wget https://repo.anaconda.com/archive/Anaconda3-2018.12-Linux-x86_64.sh\n",
    "-  bash Anaconda3-2018.12-Linux-x86_64.sh\n",
    "-  source ~/.bashrc\n",
    "-  conda create --name toros python=2.7 anaconda\n",
    "\n",
    "Para activar el entorno\n",
    "-  source activate toros\n",
    "\n",
    "Para cerrar el entorno\n",
    "-  conda deactivate"
   ]
  },
  {
   "cell_type": "markdown",
   "metadata": {},
   "source": [
    "# -2"
   ]
  },
  {
   "cell_type": "markdown",
   "metadata": {},
   "source": [
    "**Instalación de corral**"
   ]
  },
  {
   "cell_type": "markdown",
   "metadata": {},
   "source": [
    "**Para user con permisos:**"
   ]
  },
  {
   "cell_type": "markdown",
   "metadata": {},
   "source": [
    "- git clone [Corral](https://github.com/toros-astro/corral)\n",
    "\n",
    "En corral\n",
    "\n",
    "- python setup.py install"
   ]
  },
  {
   "cell_type": "markdown",
   "metadata": {},
   "source": [
    "**Para usuarios:**"
   ]
  },
  {
   "cell_type": "markdown",
   "metadata": {},
   "source": [
    " - pip install -U corral-pipeline"
   ]
  },
  {
   "cell_type": "markdown",
   "metadata": {},
   "source": [
    "# -3"
   ]
  },
  {
   "cell_type": "markdown",
   "metadata": {},
   "source": [
    "**Toritos**"
   ]
  },
  {
   "cell_type": "markdown",
   "metadata": {},
   "source": [
    "Clonamos el repositorio Toritos:\n",
    "    \n",
    "- git clone https://github.com/toros-astro/toritos.git my_toritos\n",
    "- cd my_toritos \n",
    "- pip install -r requirements.txt:\n",
    "\n",
    "corral-pipeline>=0.3\n",
    "\n",
    "numpy>=1.10\n",
    "\n",
    "scipy>=0.17\n",
    "\n",
    "astropy>=1.1\n",
    "\n",
    "ccdproc>=0.3.\n",
    "\n",
    "astroquery==0.3.6.post2\n",
    "    \n",
    "\n",
    "# PAQUETES FALTANTES\n",
    "\n",
    "\t* conda install pytz\n",
    "\t* sudo apt install astrometry.net\n",
    "    * sudo apt-get install sqlitebrowser\n",
    "    * pip install properimage\n",
    "    * pip install astroalign\n",
    "\n"
   ]
  },
  {
   "cell_type": "markdown",
   "metadata": {},
   "source": [
    "# Local settings file found\n",
    "\n",
    "run 'python in_corral.py <COMMAND> --help'\n",
    "\n",
    "Available subcommands\n",
    "\n",
    "[corral]\n",
    "\n",
    "  alembic - Execute all the Alembic migration tool commands under Co...\n",
    "  \n",
    "  check-alerts - Run the alerts and announce to the endpoint if some...\n",
    "  \n",
    "  create - Create a new corral pipeline\n",
    "  \n",
    "  create-doc - Generate a Markdown documentation for your pipeline\n",
    "  \n",
    "  create-models-diagram - Generates a class diagram in 'dot' format ...\n",
    "  \n",
    "  createdb - Create all the database structure\n",
    "  \n",
    "  dbshell - Run an SQL shell throught sqlalchemy\n",
    "  \n",
    "  exec - Execute file inside corral environment\n",
    "  \n",
    "  groups - List all existent groups for Steps and Alerts\n",
    "  \n",
    "  load - Excecute the loader class\n",
    "  \n",
    "  lsalerts - List all available alert classes\n",
    "  \n",
    "  lssteps - List all available step classes\n",
    "  \n",
    "  makemigrations - Generate a database migration script for your cur...\n",
    "  \n",
    "  migrate - Synchronizes the database state with the current set of ...\n",
    "  \n",
    "  notebook - Run the Jupyter notebook inside Corral enviroment\n",
    "  \n",
    "  profile - Run a CPU profile (with cProfile) and then open the repo...\n",
    "  \n",
    "  qareport - Run the QA test for your pipeline and make a reports of...\n",
    "  \n",
    "  run - Excecute the steps in order or one step in particular\n",
    "  \n",
    "  run-all - Shortcut command to run the loader, steps and alerts asy...\n",
    "  \n",
    "  shell - Run the Python shell inside Corral enviroment\n",
    "  \n",
    "  test - Run all unittests for your pipeline\n",
    "\n",
    "[toritos]\n",
    "\n",
    "  setupcampaign - Populates DB with campaign static entries\n",
    "  \n",
    "  setupstates - Populates DB with the necessary static entries\n",
    "  \n",
    "  sqlitebrowser - Opens the DB with the sqlite browser (only for sql...\n",
    "  \n",
    "  status - Prints a status of the pipeline Checks if there is work t...\n",
    "  \n",
    "  truncatetables - Empties every table in db\n",
    "\n",
    "Error: too few arguments\n"
   ]
  },
  {
   "cell_type": "markdown",
   "metadata": {},
   "source": [
    "##            Steps to set up a campaign and start processing data ##"
   ]
  },
  {
   "cell_type": "markdown",
   "metadata": {},
   "source": [
    "*Opcional:*\n",
    "    Crear una ruta para el database\n",
    "- touch .../my_toritos/toritos/local_settings.py\n",
    "    \n",
    "    PAWPRINT_PATH='../my_toritos/datos'\n",
    "    \n",
    "    DATA_PATH='../my_toritos/salida'"
   ]
  },
  {
   "cell_type": "markdown",
   "metadata": {},
   "source": [
    "En .../my_toritos\n",
    "\n",
    "- python in_corral.py createdb\n",
    "\n",
    "out:\n",
    "Local settings file found\n",
    "Do you want to create the database [Yes/no]? Yes\n",
    "\n"
   ]
  },
  {
   "cell_type": "markdown",
   "metadata": {},
   "source": [
    "*Crear una carpeta de nombre datos con los .fits*\n",
    "*Crear una carpeta de nombre salida*"
   ]
  },
  {
   "cell_type": "markdown",
   "metadata": {},
   "source": [
    "Load the campaign data to the database\n",
    "\n",
    "- python in_corral.py setupcampaign\n",
    "\n",
    "out:Local settings file found\n"
   ]
  },
  {
   "cell_type": "markdown",
   "metadata": {},
   "source": [
    "Load the data states into the database\n",
    "- python in_corral.py setupstates\n",
    "\n",
    "out:Local settings file found"
   ]
  },
  {
   "cell_type": "markdown",
   "metadata": {},
   "source": [
    "Load the initial data into the database\n",
    "\n",
    "- python in_corral.py load\n",
    "\n",
    "out:Local settings file found\n"
   ]
  },
  {
   "cell_type": "markdown",
   "metadata": {},
   "source": [
    "DB Browser for SQLite\n",
    "\n",
    "- python in_corral.py sqlitebrowser\n",
    "\n",
    "out:Local settings file found"
   ]
  },
  {
   "cell_type": "markdown",
   "metadata": {},
   "source": [
    "Durante las etapas es posible consultar la cantidad de imágenes que se encuentran en\n",
    "proceso, mediante la interfaz de lı́nea de comando de Corral. Esto se expresará mostrando la cantidad de imágenes de ciencia (denominadas pawprints) en cada uno de los estados posibles que permite la pipeline.\n",
    "\n",
    "**Estado**\n",
    "\n",
    "- python in_corral.py status\n",
    "\n",
    "out:\n",
    "\n",
    "Local settings file found\n",
    "\n",
    "#of Pawprints per state\n",
    "\n",
    "\n",
    "\n",
    " raw                    | 184 |\n",
    " \n",
    " raw_error              | 0   |\n",
    " \n",
    " cleaned                | 0   |\n",
    " \n",
    " cleaned_error          | 0   |\n",
    " \n",
    " preprocessed           | 0   |\n",
    " \n",
    " preprocessed_error     | 0   |\n",
    " \n",
    " stacked                | 0   |\n",
    " \n",
    " stacked_error          | 0   |\n",
    " \n",
    " wcs_solved             | 0   |\n",
    " \n",
    " wcs_solved_error       | 0   |\n",
    " \n",
    " phot_calibrated        | 0   |\n",
    " \n",
    " phot_calibrated_error  | 0   |\n",
    " \n",
    "\n",
    " Total number of Pawprints: 184\n"
   ]
  },
  {
   "cell_type": "markdown",
   "metadata": {},
   "source": [
    "**Clases**\n",
    "\n",
    "- python in_corral.py lssteps\n",
    "\n",
    "out:\n",
    "\n",
    "\n",
    "|     Step Class      | Groups  |\n",
    "\n",
    "+=====================+\n",
    "\n",
    "| StepAstrometry      | default |\n",
    "\n",
    "| StepBiasCombine     | default |\n",
    "\n",
    "| StepCalCleaner      | default |\n",
    "\n",
    "| StepDarkCombine     | default |\n",
    "\n",
    "| StepFlatCombine     | default |\n",
    "\n",
    "| StepPawApPhotometry | default |\n",
    "\n",
    "| StepPawCleaner      | default |\n",
    "\n",
    "| StepPawObjectCoord  | default |\n",
    "\n",
    "| StepPawProcess      | default |\n",
    "\n",
    "| StepRetryAstrometry | default |\n",
    "\n"
   ]
  },
  {
   "cell_type": "markdown",
   "metadata": {},
   "source": [
    "**Correr una de las clases**\n",
    "\n",
    "- python in_corral.py run -s StepAstrometry --sync\n",
    " \n",
    "- python in_corral.py run -s StepBiasCombine --sync\n",
    "\n",
    "- python in_corral.py run -s StepCalCleaner --sync\n",
    "\n",
    "- python in_corral.py run -s StepDarkCombine --sync\n",
    "\n",
    "- python in_corral.py run -s StepFlatCombine --sync\n",
    "\n",
    "- python in_corral.py run -s StepPawApPhotometry --sync\n",
    "\n",
    "- python in_corral.py run -s StepPawCleaner --sync\n",
    "\n",
    "- python in_corral.py run -s StepPawObjectCoord --sync\n",
    "\n",
    "En un solo paso\n",
    "\n",
    "- sh freshload.sh\n",
    "\n",
    "Run all the steps on the initial data (loaded on the previous step)\n",
    "\n",
    "- python run --sync\n"
   ]
  },
  {
   "cell_type": "code",
   "execution_count": null,
   "metadata": {},
   "outputs": [],
   "source": []
  }
 ],
 "metadata": {
  "kernelspec": {
   "display_name": "Python [conda env:diplodatos-ayv]",
   "language": "python",
   "name": "conda-env-diplodatos-ayv-py"
  },
  "language_info": {
   "codemirror_mode": {
    "name": "ipython",
    "version": 3
   },
   "file_extension": ".py",
   "mimetype": "text/x-python",
   "name": "python",
   "nbconvert_exporter": "python",
   "pygments_lexer": "ipython3",
   "version": "3.5.5"
  }
 },
 "nbformat": 4,
 "nbformat_minor": 2
}
